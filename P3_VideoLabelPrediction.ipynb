{
 "cells": [
  {
   "cell_type": "code",
   "execution_count": 1,
   "id": "e264e2c9",
   "metadata": {},
   "outputs": [],
   "source": [
    "from keras.models import load_model\n",
    "import numpy as np\n",
    "import progressbar"
   ]
  },
  {
   "cell_type": "code",
   "execution_count": 2,
   "id": "d0caa205",
   "metadata": {},
   "outputs": [],
   "source": [
    "model = load_model('modelCNNcolor.h5')"
   ]
  },
  {
   "cell_type": "markdown",
   "id": "bdddbda5",
   "metadata": {},
   "source": [
    "# Convert video to frames"
   ]
  },
  {
   "cell_type": "code",
   "execution_count": 3,
   "id": "9e02c58d",
   "metadata": {},
   "outputs": [
    {
     "name": "stdout",
     "output_type": "stream",
     "text": [
      "Directory already exists\n"
     ]
    }
   ],
   "source": [
    "import cv2\n",
    "import os \n",
    "\n",
    "#vidpath=r\"D:\\Football_image_classification\\videos_football\\scoring 10.avi\" # load video\n",
    "vidpath=r\"D:\\Football_image_classification\\videos_football\\scoring 1.avi\" # load video\n",
    "# create directory to store image\n",
    "outpath = list(os.path.splitext(vidpath))[0]\n",
    "  \n",
    "try: \n",
    "    os.mkdir(outpath) \n",
    "except OSError as error: \n",
    "    print(\"Directory already exists\")  \n",
    "\n",
    "vidObj= cv2.VideoCapture(vidpath)\n",
    "i=1\n",
    "while(vidObj.isOpened()):\n",
    "    ret, frame = vidObj.read()\n",
    "    if ret == False:\n",
    "        break\n",
    "    cv2.imwrite(os.path.join(outpath , \"frame %d.jpg\" %i),frame)\n",
    "    i+=1\n",
    "\n",
    "vidObj.release()"
   ]
  },
  {
   "cell_type": "markdown",
   "id": "832c646a",
   "metadata": {},
   "source": [
    "# Preprocessing of images"
   ]
  },
  {
   "cell_type": "code",
   "execution_count": 4,
   "id": "dcc293f7",
   "metadata": {},
   "outputs": [
    {
     "name": "stderr",
     "output_type": "stream",
     "text": [
      " 83% (40 of 48) |####################    | Elapsed Time: 0:00:00 ETA:   0:00:00"
     ]
    }
   ],
   "source": [
    "folder=outpath\n",
    "im_width=256//4\n",
    "im_height=144//4\n",
    "imageColor=np.zeros((i,im_height,im_width,3))\n",
    "count=0\n",
    "bar=progressbar.ProgressBar(max_value=i).start()\n",
    "\n",
    "for filename in os.listdir(folder):\n",
    "    \n",
    "    img=cv2.imread(folder+'\\\\'+filename, 1)            # reading image (Folder path and image name )\n",
    "    im_resize = cv2.resize(img, (im_width,im_height))\n",
    "    im_reshape=im_resize.reshape(-1,im_height,im_width,3)\n",
    "    imageColor[count,:,:,:]=im_reshape\n",
    "    count+=1\n",
    "    bar.update(count)\n",
    "  "
   ]
  },
  {
   "cell_type": "markdown",
   "id": "32eaa026",
   "metadata": {},
   "source": [
    "# Predict labels"
   ]
  },
  {
   "cell_type": "code",
   "execution_count": 5,
   "id": "c2794cda",
   "metadata": {},
   "outputs": [
    {
     "name": "stdout",
     "output_type": "stream",
     "text": [
      "2/2 [==============================] - 0s 4ms/step\n"
     ]
    }
   ],
   "source": [
    "Xsample=imageColor/255\n",
    "ypred=model.predict(Xsample)"
   ]
  },
  {
   "cell_type": "code",
   "execution_count": 6,
   "id": "77909a2b",
   "metadata": {},
   "outputs": [
    {
     "name": "stdout",
     "output_type": "stream",
     "text": [
      "Goal moment\n"
     ]
    }
   ],
   "source": [
    "yPred=ypred.round().astype(int)\n",
    "l1=yPred.sum(axis=0)\n",
    "l=ypred.sum(axis=0).round()\n",
    "gate=l[0]\n",
    "joy=l[1]\n",
    "yellow=l[2]\n",
    "red=l[3]\n",
    "ball=l[4]\n",
    "\n",
    "if l[4] and l[0]:\n",
    "    print(\"Goal moment\")\n",
    "if l[1]:\n",
    "    print(\"Happy moment\")\n",
    "if l[3] or l[2]:\n",
    "    print(\"Sad moment\")"
   ]
  },
  {
   "cell_type": "code",
   "execution_count": null,
   "id": "155735a2",
   "metadata": {},
   "outputs": [],
   "source": []
  }
 ],
 "metadata": {
  "kernelspec": {
   "display_name": "Python 3 (ipykernel)",
   "language": "python",
   "name": "python3"
  },
  "language_info": {
   "codemirror_mode": {
    "name": "ipython",
    "version": 3
   },
   "file_extension": ".py",
   "mimetype": "text/x-python",
   "name": "python",
   "nbconvert_exporter": "python",
   "pygments_lexer": "ipython3",
   "version": "3.9.13"
  }
 },
 "nbformat": 4,
 "nbformat_minor": 5
}
