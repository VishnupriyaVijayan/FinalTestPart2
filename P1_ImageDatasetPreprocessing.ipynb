{
 "cells": [
  {
   "cell_type": "code",
   "execution_count": 21,
   "id": "811f5419",
   "metadata": {},
   "outputs": [],
   "source": [
    "# Importing all necessary libraries\n",
    "\n",
    "import pandas as pd\n",
    "import numpy as np\n",
    "import cv2\n",
    "from  matplotlib import pyplot as plt\n",
    "import matplotlib.image as mpimg\n",
    "%matplotlib inline\n",
    "\n",
    "import progressbar\n",
    "from alive_progress import alive_bar\n",
    "import time\n",
    "import os\n",
    "import collections\n",
    "import random\n",
    "\n",
    "\n",
    "from keras.preprocessing.image import ImageDataGenerator\n",
    "from sklearn.model_selection import train_test_split\n",
    "\n",
    "from keras.models import Sequential\n",
    "from keras.layers import Conv2D, MaxPooling2D\n",
    "from keras.layers import Activation, Dropout, Flatten, Dense\n",
    "from keras import backend as K\n",
    "import tensorflow as tf\n",
    "from tensorflow import keras\n",
    "from tensorflow.keras.layers import Dense,InputLayer, Flatten\n",
    "from tensorflow.keras import layers, Input\n",
    "from tensorflow.keras.models import Sequential, Model\n",
    "\n",
    "\n",
    "from sklearn.metrics import multilabel_confusion_matrix\n",
    "\n"
   ]
  },
  {
   "cell_type": "markdown",
   "id": "a9dc9369",
   "metadata": {},
   "source": [
    "## count images in the folder, find duplicates if any "
   ]
  },
  {
   "cell_type": "code",
   "execution_count": 2,
   "id": "7232aaff",
   "metadata": {},
   "outputs": [
    {
     "name": "stdout",
     "output_type": "stream",
     "text": [
      "[]\n",
      "100000\n"
     ]
    }
   ],
   "source": [
    "folder=r'D:\\Football_image_classification\\IAUFD_dataset\\IAUSD_all'\n",
    "a=[]\n",
    "for filename in os.listdir(folder):\n",
    "    f=int(filename.split('.')[0])\n",
    "    a.append(f)\n",
    "a.sort()\n",
    "\n",
    "print([item for item, count in collections.Counter(a).items() if count>1])   # check for repeated images\n",
    "print(len(a))                                                                # check for 100k images"
   ]
  },
  {
   "cell_type": "markdown",
   "id": "c01eee29",
   "metadata": {},
   "source": [
    "## reduce 10 label to 5 labels "
   ]
  },
  {
   "cell_type": "code",
   "execution_count": 3,
   "id": "5d6c016d",
   "metadata": {},
   "outputs": [
    {
     "name": "stdout",
     "output_type": "stream",
     "text": [
      "0     75991\n",
      "1     24007\n",
      "11        2\n",
      "Name: Gate , dtype: int64\n",
      "--------------\n",
      "0    98625\n",
      "1     1375\n",
      "Name: The joy of the players, dtype: int64\n",
      "--------------\n",
      "0    99409\n",
      "1      591\n",
      "Name: yellow card, dtype: int64\n",
      "--------------\n",
      "0    99929\n",
      "1       71\n",
      "Name: Red Card, dtype: int64\n",
      "--------------\n",
      "0     52311\n",
      "1     47687\n",
      "11        2\n",
      "Name: Ball, dtype: int64\n",
      "--------------\n"
     ]
    }
   ],
   "source": [
    "# read labels\n",
    "labels=pd.read_excel(r\"D:\\Football_image_classification\\IAUFD_dataset\\IAUSD_Label.xlsx\")\n",
    "# rearrange column names and index \n",
    "labels.columns = labels.iloc[0]\n",
    "labels.drop(index=labels.index[0], axis=0, inplace=True)\n",
    "labels.reset_index()\n",
    "labels=labels.filter(regex='(?i)^(?!NaN).+', axis=1)\n",
    "# drop labels not needed for the project\n",
    "labels.drop(columns=['referee Image','Start/Restar the game','Stadium View','Penalty Image', 'Free Kick'],inplace=True)\n",
    "# convert object datatype to int\n",
    "for k in labels.columns:\n",
    "    labels[k]=labels[k].astype('str').astype('int')\n",
    "    print(labels[k].value_counts())\n",
    "    print(\"--\"*7)\n"
   ]
  },
  {
   "cell_type": "code",
   "execution_count": 4,
   "id": "411fc5a2",
   "metadata": {},
   "outputs": [
    {
     "data": {
      "text/html": [
       "<div>\n",
       "<style scoped>\n",
       "    .dataframe tbody tr th:only-of-type {\n",
       "        vertical-align: middle;\n",
       "    }\n",
       "\n",
       "    .dataframe tbody tr th {\n",
       "        vertical-align: top;\n",
       "    }\n",
       "\n",
       "    .dataframe thead th {\n",
       "        text-align: right;\n",
       "    }\n",
       "</style>\n",
       "<table border=\"1\" class=\"dataframe\">\n",
       "  <thead>\n",
       "    <tr style=\"text-align: right;\">\n",
       "      <th></th>\n",
       "      <th>Gate</th>\n",
       "      <th>The joy of the players</th>\n",
       "      <th>yellow card</th>\n",
       "      <th>Red Card</th>\n",
       "      <th>Ball</th>\n",
       "    </tr>\n",
       "  </thead>\n",
       "  <tbody>\n",
       "    <tr>\n",
       "      <th>47590</th>\n",
       "      <td>11</td>\n",
       "      <td>0</td>\n",
       "      <td>0</td>\n",
       "      <td>0</td>\n",
       "      <td>1</td>\n",
       "    </tr>\n",
       "    <tr>\n",
       "      <th>64991</th>\n",
       "      <td>11</td>\n",
       "      <td>0</td>\n",
       "      <td>0</td>\n",
       "      <td>0</td>\n",
       "      <td>0</td>\n",
       "    </tr>\n",
       "  </tbody>\n",
       "</table>\n",
       "</div>"
      ],
      "text/plain": [
       "0      Gate   The joy of the players  yellow card  Red Card  Ball\n",
       "47590     11                       0            0         0     1\n",
       "64991     11                       0            0         0     0"
      ]
     },
     "execution_count": 4,
     "metadata": {},
     "output_type": "execute_result"
    }
   ],
   "source": [
    "labels[labels['Gate ']==11]"
   ]
  },
  {
   "cell_type": "code",
   "execution_count": 5,
   "id": "1aff836a",
   "metadata": {},
   "outputs": [
    {
     "data": {
      "text/html": [
       "<div>\n",
       "<style scoped>\n",
       "    .dataframe tbody tr th:only-of-type {\n",
       "        vertical-align: middle;\n",
       "    }\n",
       "\n",
       "    .dataframe tbody tr th {\n",
       "        vertical-align: top;\n",
       "    }\n",
       "\n",
       "    .dataframe thead th {\n",
       "        text-align: right;\n",
       "    }\n",
       "</style>\n",
       "<table border=\"1\" class=\"dataframe\">\n",
       "  <thead>\n",
       "    <tr style=\"text-align: right;\">\n",
       "      <th></th>\n",
       "      <th>Gate</th>\n",
       "      <th>The joy of the players</th>\n",
       "      <th>yellow card</th>\n",
       "      <th>Red Card</th>\n",
       "      <th>Ball</th>\n",
       "    </tr>\n",
       "  </thead>\n",
       "  <tbody>\n",
       "    <tr>\n",
       "      <th>70222</th>\n",
       "      <td>0</td>\n",
       "      <td>0</td>\n",
       "      <td>0</td>\n",
       "      <td>0</td>\n",
       "      <td>11</td>\n",
       "    </tr>\n",
       "    <tr>\n",
       "      <th>86553</th>\n",
       "      <td>1</td>\n",
       "      <td>0</td>\n",
       "      <td>0</td>\n",
       "      <td>0</td>\n",
       "      <td>11</td>\n",
       "    </tr>\n",
       "  </tbody>\n",
       "</table>\n",
       "</div>"
      ],
      "text/plain": [
       "0      Gate   The joy of the players  yellow card  Red Card  Ball\n",
       "70222      0                       0            0         0    11\n",
       "86553      1                       0            0         0    11"
      ]
     },
     "execution_count": 5,
     "metadata": {},
     "output_type": "execute_result"
    }
   ],
   "source": [
    "labels[labels['Ball']==11]"
   ]
  },
  {
   "cell_type": "code",
   "execution_count": 6,
   "id": "cf138f26",
   "metadata": {},
   "outputs": [
    {
     "data": {
      "text/plain": [
       "([1, 0, 0, 0, 1], 59276)"
      ]
     },
     "execution_count": 6,
     "metadata": {},
     "output_type": "execute_result"
    }
   ],
   "source": [
    "labels.loc[47590,'Gate ']=1   # change label 11 to 1\n",
    "labels.loc[64991,'Gate ']=1\n",
    "labels.loc[70222,'Ball']=1\n",
    "labels.loc[86553,'Ball']=1\n",
    "                              # remove images with no labels\n",
    "b=labels.sum(axis=1)\n",
    "b=b[b==0].index.tolist()\n",
    "a1=list(set(a)-set(b))\n",
    "a1.sort()\n",
    "lbl=labels.loc[a1]\n",
    "y1=lbl.iloc[10]               # multi-label image classification\n",
    "list(y1),len(a1)"
   ]
  },
  {
   "cell_type": "code",
   "execution_count": 7,
   "id": "2568a016",
   "metadata": {},
   "outputs": [
    {
     "data": {
      "text/html": [
       "<div>\n",
       "<style scoped>\n",
       "    .dataframe tbody tr th:only-of-type {\n",
       "        vertical-align: middle;\n",
       "    }\n",
       "\n",
       "    .dataframe tbody tr th {\n",
       "        vertical-align: top;\n",
       "    }\n",
       "\n",
       "    .dataframe thead th {\n",
       "        text-align: right;\n",
       "    }\n",
       "</style>\n",
       "<table border=\"1\" class=\"dataframe\">\n",
       "  <thead>\n",
       "    <tr style=\"text-align: right;\">\n",
       "      <th></th>\n",
       "      <th>Gate</th>\n",
       "      <th>The joy of the players</th>\n",
       "      <th>yellow card</th>\n",
       "      <th>Red Card</th>\n",
       "      <th>Ball</th>\n",
       "    </tr>\n",
       "  </thead>\n",
       "  <tbody>\n",
       "    <tr>\n",
       "      <th>99991</th>\n",
       "      <td>0</td>\n",
       "      <td>0</td>\n",
       "      <td>0</td>\n",
       "      <td>0</td>\n",
       "      <td>1</td>\n",
       "    </tr>\n",
       "    <tr>\n",
       "      <th>99992</th>\n",
       "      <td>1</td>\n",
       "      <td>0</td>\n",
       "      <td>0</td>\n",
       "      <td>0</td>\n",
       "      <td>1</td>\n",
       "    </tr>\n",
       "    <tr>\n",
       "      <th>99993</th>\n",
       "      <td>0</td>\n",
       "      <td>0</td>\n",
       "      <td>0</td>\n",
       "      <td>0</td>\n",
       "      <td>1</td>\n",
       "    </tr>\n",
       "    <tr>\n",
       "      <th>99994</th>\n",
       "      <td>0</td>\n",
       "      <td>0</td>\n",
       "      <td>0</td>\n",
       "      <td>0</td>\n",
       "      <td>1</td>\n",
       "    </tr>\n",
       "    <tr>\n",
       "      <th>99995</th>\n",
       "      <td>0</td>\n",
       "      <td>0</td>\n",
       "      <td>0</td>\n",
       "      <td>0</td>\n",
       "      <td>1</td>\n",
       "    </tr>\n",
       "    <tr>\n",
       "      <th>99996</th>\n",
       "      <td>0</td>\n",
       "      <td>0</td>\n",
       "      <td>0</td>\n",
       "      <td>0</td>\n",
       "      <td>1</td>\n",
       "    </tr>\n",
       "    <tr>\n",
       "      <th>99997</th>\n",
       "      <td>0</td>\n",
       "      <td>0</td>\n",
       "      <td>0</td>\n",
       "      <td>0</td>\n",
       "      <td>0</td>\n",
       "    </tr>\n",
       "    <tr>\n",
       "      <th>99998</th>\n",
       "      <td>0</td>\n",
       "      <td>0</td>\n",
       "      <td>0</td>\n",
       "      <td>0</td>\n",
       "      <td>0</td>\n",
       "    </tr>\n",
       "    <tr>\n",
       "      <th>99999</th>\n",
       "      <td>0</td>\n",
       "      <td>0</td>\n",
       "      <td>0</td>\n",
       "      <td>0</td>\n",
       "      <td>0</td>\n",
       "    </tr>\n",
       "    <tr>\n",
       "      <th>100000</th>\n",
       "      <td>0</td>\n",
       "      <td>0</td>\n",
       "      <td>0</td>\n",
       "      <td>0</td>\n",
       "      <td>0</td>\n",
       "    </tr>\n",
       "  </tbody>\n",
       "</table>\n",
       "</div>"
      ],
      "text/plain": [
       "0       Gate   The joy of the players  yellow card  Red Card  Ball\n",
       "99991       0                       0            0         0     1\n",
       "99992       1                       0            0         0     1\n",
       "99993       0                       0            0         0     1\n",
       "99994       0                       0            0         0     1\n",
       "99995       0                       0            0         0     1\n",
       "99996       0                       0            0         0     1\n",
       "99997       0                       0            0         0     0\n",
       "99998       0                       0            0         0     0\n",
       "99999       0                       0            0         0     0\n",
       "100000      0                       0            0         0     0"
      ]
     },
     "execution_count": 7,
     "metadata": {},
     "output_type": "execute_result"
    }
   ],
   "source": [
    "labels.tail(10)"
   ]
  },
  {
   "cell_type": "code",
   "execution_count": 8,
   "id": "e727477d",
   "metadata": {},
   "outputs": [
    {
     "data": {
      "text/plain": [
       "0\n",
       "Gate                      1\n",
       "The joy of the players    0\n",
       "yellow card               0\n",
       "Red Card                  0\n",
       "Ball                      1\n",
       "Name: 99992, dtype: int32"
      ]
     },
     "execution_count": 8,
     "metadata": {},
     "output_type": "execute_result"
    }
   ],
   "source": [
    "lbl.loc[99992]"
   ]
  },
  {
   "cell_type": "markdown",
   "id": "0c08ba15",
   "metadata": {},
   "source": [
    "##  Resize and flatten the images  to 1 D, 2D, 3D"
   ]
  },
  {
   "cell_type": "code",
   "execution_count": 9,
   "id": "3ffdec5c",
   "metadata": {},
   "outputs": [
    {
     "name": "stdout",
     "output_type": "stream",
     "text": [
      "Processing.. |████████████████████████████████████████⚠︎ (!) 59276/59277 [100%] in 3:23:25.7 (4.86/s)                    \n",
      "(59277, 2304) (59277, 5)\n"
     ]
    }
   ],
   "source": [
    "im_width=256//4\n",
    "im_height=144//4\n",
    "image=np.empty((1,im_width*im_height))\n",
    "multi_lbl=np.empty((1,5))\n",
    " \n",
    "with alive_bar(len(a1), force_tty=True, title='Processing..') as bar:\n",
    "    for filename in os.listdir(folder):\n",
    "        f=int(filename.split('.')[0])\n",
    "        if f in a1:\n",
    "            y1=list(lbl.loc[f])\n",
    "            img=cv2.imread(folder+'\\\\'+filename, 0)  # reading image in grey scale(Folder path and image name )\n",
    "            im_resize = cv2.resize(img, (im_width, im_height))\n",
    "            im_flatten=im_resize.flatten()\n",
    "            image=np.vstack((image,im_flatten))\n",
    "            multi_lbl=np.vstack((multi_lbl,y1))\n",
    "            bar()\n",
    "        \n",
    "        \n",
    "print(image.shape,multi_lbl.shape)\n",
    "np.save(\"ImageData1D\", image)\n",
    "np.save(\"LabelD\",multi_lbl)"
   ]
  },
  {
   "cell_type": "code",
   "execution_count": 13,
   "id": "45a009f4",
   "metadata": {},
   "outputs": [
    {
     "name": "stderr",
     "output_type": "stream",
     "text": [
      " 99% (59272 of 59276) |################# | Elapsed Time: 0:02:33 ETA:   0:00:00"
     ]
    },
    {
     "name": "stdout",
     "output_type": "stream",
     "text": [
      "(59277, 2304) (59277, 5)\n",
      "(59276, 36, 64) (59276, 5)\n"
     ]
    }
   ],
   "source": [
    "im_width=256//4\n",
    "im_height=144//4\n",
    "imageGrey=np.zeros((len(a1),im_height,im_width))\n",
    "multi_lblgrey=np.zeros((len(a1),5))\n",
    "count=0\n",
    "bar=progressbar.ProgressBar(max_value=len(a1)).start()\n",
    "for filename in os.listdir(folder):\n",
    "    f=int(filename.split('.')[0])\n",
    "    if f in a1:\n",
    "        y1=list(lbl.loc[f])\n",
    "        img=cv2.imread(folder+'\\\\'+filename,0)            # reading image in grey scale(Folder path and image name )\n",
    "        im_resize = cv2.resize(img, (im_width,im_height))\n",
    "        im_reshape=im_resize.reshape(-1,im_height,im_width)\n",
    "        imageGrey[count,:,:]=im_reshape\n",
    "        multi_lblgrey[count,:]=y1\n",
    "        count+=1\n",
    "        bar.update(count)\n",
    "       \n",
    "       \n",
    "print(image.shape,multi_lbl.shape)\n",
    "print(imageGrey.shape,multi_lblgrey.shape)\n",
    "np.save(\"ImageData2D\", imageGrey)\n",
    "np.save(\"Labe2D\",multi_lblgrey)"
   ]
  },
  {
   "cell_type": "code",
   "execution_count": 14,
   "id": "37678c36",
   "metadata": {},
   "outputs": [
    {
     "name": "stderr",
     "output_type": "stream",
     "text": [
      " 99% (59273 of 59276) |################# | Elapsed Time: 0:07:09 ETA:   0:00:00"
     ]
    }
   ],
   "source": [
    "im_width=256//4\n",
    "im_height=144//4\n",
    "imageColor=np.zeros((len(a1),im_height,im_width,3))\n",
    "multi_lblcolor=np.zeros((len(a1),5))\n",
    "count=0\n",
    "bar=progressbar.ProgressBar(max_value=len(a1)).start()\n",
    "for filename in os.listdir(folder):\n",
    "    f=int(filename.split('.')[0])\n",
    "    if f in a1:\n",
    "        y1=list(lbl.loc[f])\n",
    "        img=cv2.imread(folder+'\\\\'+filename, 1)            # reading image (Folder path and image name )\n",
    "        im_resize = cv2.resize(img, (im_width,im_height))\n",
    "        im_reshape=im_resize.reshape(-1,im_height,im_width,3)\n",
    "        imageColor[count,:,:,:]=im_reshape\n",
    "        multi_lblcolor[count,:]=y1\n",
    "        count+=1\n",
    "        bar.update(count)\n",
    "np.save(\"ImageData3D\", imageColor)\n",
    "np.save(\"Labe3D\",multi_lblcolor)       "
   ]
  }
 ],
 "metadata": {
  "kernelspec": {
   "display_name": "Python 3 (ipykernel)",
   "language": "python",
   "name": "python3"
  },
  "language_info": {
   "codemirror_mode": {
    "name": "ipython",
    "version": 3
   },
   "file_extension": ".py",
   "mimetype": "text/x-python",
   "name": "python",
   "nbconvert_exporter": "python",
   "pygments_lexer": "ipython3",
   "version": "3.9.13"
  }
 },
 "nbformat": 4,
 "nbformat_minor": 5
}
