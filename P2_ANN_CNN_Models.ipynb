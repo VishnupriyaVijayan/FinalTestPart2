{
 "cells": [
  {
   "cell_type": "code",
   "execution_count": 2,
   "id": "811f5419",
   "metadata": {},
   "outputs": [],
   "source": [
    "# Importing all necessary libraries\n",
    "\n",
    "import pandas as pd\n",
    "import numpy as np\n",
    "import cv2\n",
    "from  matplotlib import pyplot as plt\n",
    "import matplotlib.image as mpimg\n",
    "%matplotlib inline\n",
    "\n",
    "import progressbar\n",
    "from alive_progress import alive_bar\n",
    "import time\n",
    "import os\n",
    "import collections\n",
    "import random\n",
    "\n",
    "\n",
    "from keras.preprocessing.image import ImageDataGenerator\n",
    "from sklearn.model_selection import train_test_split\n",
    "\n",
    "from keras.models import Sequential\n",
    "from keras.layers import Conv2D, MaxPooling2D\n",
    "from keras.layers import Activation, Dropout, Flatten, Dense\n",
    "from keras import backend as K\n",
    "import tensorflow as tf\n",
    "from tensorflow import keras\n",
    "from tensorflow.keras.layers import Dense,InputLayer, Flatten\n",
    "from tensorflow.keras import layers, Input\n",
    "from tensorflow.keras.models import Sequential, Model\n",
    "\n",
    "\n",
    "from sklearn.metrics import multilabel_confusion_matrix\n",
    "\n"
   ]
  },
  {
   "cell_type": "markdown",
   "id": "c888683a",
   "metadata": {},
   "source": [
    "## ANN_1  for 1D data"
   ]
  },
  {
   "cell_type": "code",
   "execution_count": 17,
   "id": "5b47c323",
   "metadata": {},
   "outputs": [],
   "source": [
    "X=np.load(\"ImageData1D.npy\")\n",
    "y=np.load(\"LabelD.npy\")\n",
    "y=y.astype(int)\n",
    "print(X.shape,y.shape)"
   ]
  },
  {
   "cell_type": "code",
   "execution_count": 26,
   "id": "a894f3a0",
   "metadata": {},
   "outputs": [],
   "source": [
    "X_train,X_test,y_train,y_test = train_test_split(X,y,test_size=0.2,random_state=0)"
   ]
  },
  {
   "cell_type": "code",
   "execution_count": 31,
   "id": "20bae447",
   "metadata": {},
   "outputs": [],
   "source": [
    "modelANN = Sequential()\n",
    "modelANN.add(Dense(100, activation='relu'))\n",
    "modelANN.add(Dense(20, activation='relu'))\n",
    "modelANN.add(Dense(5, activation='softmax'))\n",
    "modelANN.compile(loss='binary_crossentropy', optimizer='adam', metrics=['accuracy'])"
   ]
  },
  {
   "cell_type": "code",
   "execution_count": 33,
   "id": "66a51864",
   "metadata": {},
   "outputs": [
    {
     "name": "stdout",
     "output_type": "stream",
     "text": [
      "Epoch 1/50\n",
      "238/238 [==============================] - 1s 2ms/step - loss: 0.3643 - accuracy: 0.6072 - val_loss: 0.4096 - val_accuracy: 0.5509\n",
      "Epoch 2/50\n",
      "238/238 [==============================] - 1s 2ms/step - loss: 0.3779 - accuracy: 0.5930 - val_loss: 0.3627 - val_accuracy: 0.5875\n",
      "Epoch 3/50\n",
      "238/238 [==============================] - 1s 2ms/step - loss: 0.3285 - accuracy: 0.5867 - val_loss: 0.3042 - val_accuracy: 0.5743\n",
      "Epoch 4/50\n",
      "238/238 [==============================] - 1s 2ms/step - loss: 0.2869 - accuracy: 0.5792 - val_loss: 0.2853 - val_accuracy: 0.5830\n",
      "Epoch 5/50\n",
      "238/238 [==============================] - 1s 2ms/step - loss: 0.2770 - accuracy: 0.5800 - val_loss: 0.3113 - val_accuracy: 0.5678\n",
      "Epoch 6/50\n",
      "238/238 [==============================] - 1s 2ms/step - loss: 0.2722 - accuracy: 0.5805 - val_loss: 0.2746 - val_accuracy: 0.5790\n",
      "Epoch 7/50\n",
      "238/238 [==============================] - 1s 2ms/step - loss: 0.2673 - accuracy: 0.5810 - val_loss: 0.2753 - val_accuracy: 0.5877\n",
      "Epoch 8/50\n",
      "238/238 [==============================] - 1s 2ms/step - loss: 0.2673 - accuracy: 0.5810 - val_loss: 0.2705 - val_accuracy: 0.5800\n",
      "Epoch 9/50\n",
      "238/238 [==============================] - 1s 2ms/step - loss: 0.2611 - accuracy: 0.5811 - val_loss: 0.3133 - val_accuracy: 0.6036\n",
      "Epoch 10/50\n",
      "238/238 [==============================] - 1s 2ms/step - loss: 0.2612 - accuracy: 0.5830 - val_loss: 0.2664 - val_accuracy: 0.5727\n",
      "Epoch 11/50\n",
      "238/238 [==============================] - 1s 2ms/step - loss: 0.2627 - accuracy: 0.5819 - val_loss: 0.2813 - val_accuracy: 0.6079\n",
      "Epoch 12/50\n",
      "238/238 [==============================] - 1s 2ms/step - loss: 0.2584 - accuracy: 0.5825 - val_loss: 0.2650 - val_accuracy: 0.5872\n",
      "Epoch 13/50\n",
      "238/238 [==============================] - 1s 2ms/step - loss: 0.2549 - accuracy: 0.5833 - val_loss: 0.3165 - val_accuracy: 0.5958\n",
      "Epoch 14/50\n",
      "238/238 [==============================] - 0s 2ms/step - loss: 0.2553 - accuracy: 0.5840 - val_loss: 0.2756 - val_accuracy: 0.5678\n",
      "Epoch 15/50\n",
      "238/238 [==============================] - 1s 2ms/step - loss: 0.2555 - accuracy: 0.5864 - val_loss: 0.2614 - val_accuracy: 0.5709\n",
      "Epoch 16/50\n",
      "238/238 [==============================] - 1s 2ms/step - loss: 0.2533 - accuracy: 0.5869 - val_loss: 0.2583 - val_accuracy: 0.5773\n",
      "Epoch 17/50\n",
      "238/238 [==============================] - 1s 2ms/step - loss: 0.2510 - accuracy: 0.5916 - val_loss: 0.2602 - val_accuracy: 0.5721\n",
      "Epoch 18/50\n",
      "238/238 [==============================] - 1s 2ms/step - loss: 0.2486 - accuracy: 0.5956 - val_loss: 0.2598 - val_accuracy: 0.5739\n",
      "Epoch 19/50\n",
      "238/238 [==============================] - 1s 2ms/step - loss: 0.2482 - accuracy: 0.5982 - val_loss: 0.2549 - val_accuracy: 0.6183\n",
      "Epoch 20/50\n",
      "238/238 [==============================] - 1s 2ms/step - loss: 0.2445 - accuracy: 0.6027 - val_loss: 0.2599 - val_accuracy: 0.6053\n",
      "Epoch 21/50\n",
      "238/238 [==============================] - 1s 3ms/step - loss: 0.2454 - accuracy: 0.6090 - val_loss: 0.2539 - val_accuracy: 0.5897\n",
      "Epoch 22/50\n",
      "238/238 [==============================] - 1s 2ms/step - loss: 0.2417 - accuracy: 0.6184 - val_loss: 0.2441 - val_accuracy: 0.6242\n",
      "Epoch 23/50\n",
      "238/238 [==============================] - 1s 2ms/step - loss: 0.2382 - accuracy: 0.6294 - val_loss: 0.2420 - val_accuracy: 0.6177\n",
      "Epoch 24/50\n",
      "238/238 [==============================] - 1s 2ms/step - loss: 0.2372 - accuracy: 0.6350 - val_loss: 0.2618 - val_accuracy: 0.6675\n",
      "Epoch 25/50\n",
      "238/238 [==============================] - 1s 2ms/step - loss: 0.2357 - accuracy: 0.6402 - val_loss: 0.2407 - val_accuracy: 0.6409\n",
      "Epoch 26/50\n",
      "238/238 [==============================] - 1s 2ms/step - loss: 0.2320 - accuracy: 0.6483 - val_loss: 0.2818 - val_accuracy: 0.6837\n",
      "Epoch 27/50\n",
      "238/238 [==============================] - 1s 2ms/step - loss: 0.2314 - accuracy: 0.6534 - val_loss: 0.2355 - val_accuracy: 0.6404\n",
      "Epoch 28/50\n",
      "238/238 [==============================] - 1s 2ms/step - loss: 0.2293 - accuracy: 0.6564 - val_loss: 0.2401 - val_accuracy: 0.6674\n",
      "Epoch 29/50\n",
      "238/238 [==============================] - 1s 2ms/step - loss: 0.2320 - accuracy: 0.6553 - val_loss: 0.2718 - val_accuracy: 0.6889\n",
      "Epoch 30/50\n",
      "238/238 [==============================] - 1s 2ms/step - loss: 0.2270 - accuracy: 0.6585 - val_loss: 0.2427 - val_accuracy: 0.6642\n",
      "Epoch 31/50\n",
      "238/238 [==============================] - 1s 2ms/step - loss: 0.2294 - accuracy: 0.6602 - val_loss: 0.2405 - val_accuracy: 0.6272\n",
      "Epoch 32/50\n",
      "238/238 [==============================] - 1s 2ms/step - loss: 0.2281 - accuracy: 0.6608 - val_loss: 0.2390 - val_accuracy: 0.6470\n",
      "Epoch 33/50\n",
      "238/238 [==============================] - 1s 2ms/step - loss: 0.2256 - accuracy: 0.6654 - val_loss: 0.2351 - val_accuracy: 0.6705\n",
      "Epoch 34/50\n",
      "238/238 [==============================] - 1s 2ms/step - loss: 0.2243 - accuracy: 0.6650 - val_loss: 0.2314 - val_accuracy: 0.6721\n",
      "Epoch 35/50\n",
      "238/238 [==============================] - 1s 2ms/step - loss: 0.2221 - accuracy: 0.6696 - val_loss: 0.2302 - val_accuracy: 0.6543\n",
      "Epoch 36/50\n",
      "238/238 [==============================] - 0s 2ms/step - loss: 0.2240 - accuracy: 0.6684 - val_loss: 0.2343 - val_accuracy: 0.6377\n",
      "Epoch 37/50\n",
      "238/238 [==============================] - 1s 2ms/step - loss: 0.2211 - accuracy: 0.6695 - val_loss: 0.2522 - val_accuracy: 0.6215\n",
      "Epoch 38/50\n",
      "238/238 [==============================] - 1s 2ms/step - loss: 0.2202 - accuracy: 0.6694 - val_loss: 0.2628 - val_accuracy: 0.6934\n",
      "Epoch 39/50\n",
      "238/238 [==============================] - 1s 2ms/step - loss: 0.2201 - accuracy: 0.6728 - val_loss: 0.2538 - val_accuracy: 0.6316\n",
      "Epoch 40/50\n",
      "238/238 [==============================] - 1s 2ms/step - loss: 0.2219 - accuracy: 0.6693 - val_loss: 0.2393 - val_accuracy: 0.6965\n",
      "Epoch 41/50\n",
      "238/238 [==============================] - 1s 2ms/step - loss: 0.2166 - accuracy: 0.6750 - val_loss: 0.2298 - val_accuracy: 0.6560\n",
      "Epoch 42/50\n",
      "238/238 [==============================] - 1s 2ms/step - loss: 0.2177 - accuracy: 0.6729 - val_loss: 0.2756 - val_accuracy: 0.7022\n",
      "Epoch 43/50\n",
      "238/238 [==============================] - 1s 2ms/step - loss: 0.2185 - accuracy: 0.6766 - val_loss: 0.2441 - val_accuracy: 0.6247\n",
      "Epoch 44/50\n",
      "238/238 [==============================] - 1s 2ms/step - loss: 0.2154 - accuracy: 0.6762 - val_loss: 0.2330 - val_accuracy: 0.6453\n",
      "Epoch 45/50\n",
      "238/238 [==============================] - 1s 2ms/step - loss: 0.2149 - accuracy: 0.6810 - val_loss: 0.2485 - val_accuracy: 0.6889\n",
      "Epoch 46/50\n",
      "238/238 [==============================] - 1s 2ms/step - loss: 0.2146 - accuracy: 0.6784 - val_loss: 0.2489 - val_accuracy: 0.6485\n",
      "Epoch 47/50\n",
      "238/238 [==============================] - 1s 2ms/step - loss: 0.2139 - accuracy: 0.6795 - val_loss: 0.2319 - val_accuracy: 0.7018\n",
      "Epoch 48/50\n",
      "238/238 [==============================] - 1s 2ms/step - loss: 0.2140 - accuracy: 0.6794 - val_loss: 0.2356 - val_accuracy: 0.6529\n",
      "Epoch 49/50\n",
      "238/238 [==============================] - 1s 2ms/step - loss: 0.2131 - accuracy: 0.6830 - val_loss: 0.2381 - val_accuracy: 0.6735\n",
      "Epoch 50/50\n",
      "238/238 [==============================] - 1s 2ms/step - loss: 0.2126 - accuracy: 0.6788 - val_loss: 0.2583 - val_accuracy: 0.6933\n"
     ]
    }
   ],
   "source": [
    "historyANN=modelANN.fit(x=X_train,y=y_train,\n",
    "                        batch_size=200,\n",
    "                        epochs=50,\n",
    "                        verbose=\"auto\",\n",
    "                        validation_data=(X_test,y_test),\n",
    "                        shuffle=True)"
   ]
  },
  {
   "cell_type": "code",
   "execution_count": 34,
   "id": "e3dbeec2",
   "metadata": {},
   "outputs": [
    {
     "data": {
      "text/plain": [
       "<matplotlib.legend.Legend at 0x1e0b2185670>"
      ]
     },
     "execution_count": 34,
     "metadata": {},
     "output_type": "execute_result"
    },
    {
     "data": {
      "image/png": "[encoded data removed]",
      "text/plain": [
       "<Figure size 640x480 with 1 Axes>"
      ]
     },
     "metadata": {},
     "output_type": "display_data"
    }
   ],
   "source": [
    "plt.plot(historyANN.history['accuracy'], label='accuracy')\n",
    "plt.plot(historyANN.history['val_accuracy'], label = 'val_accuracy')\n",
    "plt.xlabel('Epoch')\n",
    "plt.ylabel('Accuracy')\n",
    "\n",
    "plt.legend(loc='lower right')"
   ]
  },
  {
   "cell_type": "code",
   "execution_count": 52,
   "id": "ff5427b6",
   "metadata": {},
   "outputs": [
    {
     "data": {
      "text/plain": [
       "array([[[ 6717,   364],\n",
       "        [ 3060,  1715]],\n",
       "\n",
       "       [[11571,     1],\n",
       "        [  282,     2]],\n",
       "\n",
       "       [[11745,     0],\n",
       "        [  111,     0]],\n",
       "\n",
       "       [[11838,     0],\n",
       "        [   18,     0]],\n",
       "\n",
       "       [[ 1363,   922],\n",
       "        [ 2010,  7561]]], dtype=int64)"
      ]
     },
     "execution_count": 52,
     "metadata": {},
     "output_type": "execute_result"
    }
   ],
   "source": [
    "y_pred=modelANN.predict(X_test)\n",
    "yPred=y_pred.round().astype(int)\n",
    "y_test=y_test.astype(int)\n",
    "multilabel_confusion_matrix(y_test,yPred) # Gate, The joy of players, yellow card , Red Card, Ball"
   ]
  },
  {
   "cell_type": "markdown",
   "id": "4ac425bb",
   "metadata": {},
   "source": [
    "## ANN_2 with class weights "
   ]
  },
  {
   "cell_type": "code",
   "execution_count": 54,
   "id": "fbdb41fa",
   "metadata": {},
   "outputs": [],
   "source": [
    "# calculate class weights\n",
    "def generate_class_weights(class_series, multi_class=True, one_hot_encoded=False):\n",
    " \n",
    "    mlb = None\n",
    "    n_samples = len(class_series)\n",
    "    n_classes = len(class_series[0])\n",
    "\n",
    "    # Count each class frequency\n",
    "    class_count = [0] * n_classes\n",
    "    for classes in class_series:\n",
    "        for index in range(n_classes):\n",
    "            if classes[index] != 0:\n",
    "                class_count[index] += 1\n",
    "    \n",
    "    # Compute class weights using balanced method\n",
    "    class_weights = [n_samples / (n_classes * freq) if freq > 0 else 1 for freq in class_count]\n",
    "    class_labels = range(len(class_weights)) if mlb is None else mlb.classes_\n",
    "    return dict(zip(class_labels, class_weights))"
   ]
  },
  {
   "cell_type": "code",
   "execution_count": 56,
   "id": "e72274d1",
   "metadata": {},
   "outputs": [
    {
     "data": {
      "text/plain": [
       "{0: 0.4930955599459291,\n",
       " 1: 8.693125572868928,\n",
       " 2: 19.75875,\n",
       " 3: 178.94716981132075,\n",
       " 4: 0.24881158507791595}"
      ]
     },
     "execution_count": 56,
     "metadata": {},
     "output_type": "execute_result"
    }
   ],
   "source": [
    "clweights=generate_class_weights(y_train, multi_class=False, one_hot_encoded=True)\n",
    "clweights"
   ]
  },
  {
   "cell_type": "code",
   "execution_count": 57,
   "id": "b9c064f3",
   "metadata": {},
   "outputs": [],
   "source": [
    "modelANN = Sequential()\n",
    "modelANN.add(Dense(100, activation='relu'))\n",
    "modelANN.add(Dense(20, activation='relu'))\n",
    "modelANN.add(Dense(5, activation='softmax'))\n",
    "modelANN.compile(loss='binary_crossentropy', optimizer='adam', metrics=['accuracy'])"
   ]
  },
  {
   "cell_type": "code",
   "execution_count": 58,
   "id": "2be0ef98",
   "metadata": {},
   "outputs": [
    {
     "name": "stdout",
     "output_type": "stream",
     "text": [
      "Epoch 1/50\n",
      "238/238 [==============================] - 1s 3ms/step - loss: 3.6831 - accuracy: 0.4790 - val_loss: 0.6585 - val_accuracy: 0.5649\n",
      "Epoch 2/50\n",
      "238/238 [==============================] - 1s 2ms/step - loss: 0.5829 - accuracy: 0.5620 - val_loss: 0.6255 - val_accuracy: 0.5649\n",
      "Epoch 3/50\n",
      "238/238 [==============================] - 1s 2ms/step - loss: 0.5562 - accuracy: 0.5620 - val_loss: 0.6005 - val_accuracy: 0.5649\n",
      "Epoch 4/50\n",
      "238/238 [==============================] - 0s 2ms/step - loss: 0.5363 - accuracy: 0.5620 - val_loss: 0.5818 - val_accuracy: 0.5649\n",
      "Epoch 5/50\n",
      "238/238 [==============================] - 1s 2ms/step - loss: 0.5215 - accuracy: 0.5620 - val_loss: 0.5682 - val_accuracy: 0.5649\n",
      "Epoch 6/50\n",
      "238/238 [==============================] - 1s 2ms/step - loss: 0.5109 - accuracy: 0.5620 - val_loss: 0.5574 - val_accuracy: 0.5649\n",
      "Epoch 7/50\n",
      "238/238 [==============================] - 1s 2ms/step - loss: 0.5032 - accuracy: 0.5620 - val_loss: 0.5496 - val_accuracy: 0.5649\n",
      "Epoch 8/50\n",
      "238/238 [==============================] - 1s 2ms/step - loss: 0.4977 - accuracy: 0.5620 - val_loss: 0.5433 - val_accuracy: 0.5649\n",
      "Epoch 9/50\n",
      "238/238 [==============================] - 1s 2ms/step - loss: 0.4938 - accuracy: 0.5620 - val_loss: 0.5385 - val_accuracy: 0.5649\n",
      "Epoch 10/50\n",
      "238/238 [==============================] - 1s 2ms/step - loss: 0.4911 - accuracy: 0.5620 - val_loss: 0.5343 - val_accuracy: 0.5649\n",
      "Epoch 11/50\n",
      "238/238 [==============================] - 1s 2ms/step - loss: 0.4892 - accuracy: 0.5620 - val_loss: 0.5318 - val_accuracy: 0.5649\n",
      "Epoch 12/50\n",
      "238/238 [==============================] - 1s 2ms/step - loss: 0.4879 - accuracy: 0.5620 - val_loss: 0.5296 - val_accuracy: 0.5649\n",
      "Epoch 13/50\n",
      "238/238 [==============================] - 1s 2ms/step - loss: 0.4870 - accuracy: 0.5620 - val_loss: 0.5273 - val_accuracy: 0.5649\n",
      "Epoch 14/50\n",
      "238/238 [==============================] - 1s 2ms/step - loss: 0.4864 - accuracy: 0.5620 - val_loss: 0.5252 - val_accuracy: 0.5649\n",
      "Epoch 15/50\n",
      "238/238 [==============================] - 1s 2ms/step - loss: 0.4860 - accuracy: 0.5620 - val_loss: 0.5238 - val_accuracy: 0.5649\n",
      "Epoch 16/50\n",
      "238/238 [==============================] - 1s 2ms/step - loss: 0.4857 - accuracy: 0.5620 - val_loss: 0.5223 - val_accuracy: 0.5649\n",
      "Epoch 17/50\n",
      "238/238 [==============================] - 1s 2ms/step - loss: 0.4855 - accuracy: 0.5620 - val_loss: 0.5216 - val_accuracy: 0.5649\n",
      "Epoch 18/50\n",
      "238/238 [==============================] - 1s 2ms/step - loss: 0.4854 - accuracy: 0.5620 - val_loss: 0.5207 - val_accuracy: 0.5649\n",
      "Epoch 19/50\n",
      "238/238 [==============================] - 1s 2ms/step - loss: 0.4853 - accuracy: 0.5620 - val_loss: 0.5204 - val_accuracy: 0.5649\n",
      "Epoch 20/50\n",
      "238/238 [==============================] - 1s 2ms/step - loss: 0.4852 - accuracy: 0.5620 - val_loss: 0.5192 - val_accuracy: 0.5649\n",
      "Epoch 21/50\n",
      "238/238 [==============================] - 1s 2ms/step - loss: 0.4852 - accuracy: 0.5620 - val_loss: 0.5182 - val_accuracy: 0.5649\n",
      "Epoch 22/50\n",
      "238/238 [==============================] - 1s 2ms/step - loss: 0.4851 - accuracy: 0.5620 - val_loss: 0.5179 - val_accuracy: 0.5649\n",
      "Epoch 23/50\n",
      "238/238 [==============================] - 1s 2ms/step - loss: 0.4851 - accuracy: 0.5620 - val_loss: 0.5178 - val_accuracy: 0.5649\n",
      "Epoch 24/50\n",
      "238/238 [==============================] - 1s 2ms/step - loss: 0.4851 - accuracy: 0.5620 - val_loss: 0.5168 - val_accuracy: 0.5649\n",
      "Epoch 25/50\n",
      "238/238 [==============================] - 1s 2ms/step - loss: 0.4851 - accuracy: 0.5620 - val_loss: 0.5169 - val_accuracy: 0.5649\n",
      "Epoch 26/50\n",
      "238/238 [==============================] - 1s 2ms/step - loss: 0.4851 - accuracy: 0.5620 - val_loss: 0.5158 - val_accuracy: 0.5649\n",
      "Epoch 27/50\n",
      "238/238 [==============================] - 1s 2ms/step - loss: 0.4851 - accuracy: 0.5620 - val_loss: 0.5159 - val_accuracy: 0.5649\n",
      "Epoch 28/50\n",
      "238/238 [==============================] - 1s 2ms/step - loss: 0.4851 - accuracy: 0.5620 - val_loss: 0.5157 - val_accuracy: 0.5649\n",
      "Epoch 29/50\n",
      "238/238 [==============================] - 1s 2ms/step - loss: 0.4850 - accuracy: 0.5620 - val_loss: 0.5152 - val_accuracy: 0.5649\n",
      "Epoch 30/50\n",
      "238/238 [==============================] - 1s 2ms/step - loss: 0.4850 - accuracy: 0.5620 - val_loss: 0.5149 - val_accuracy: 0.5649\n",
      "Epoch 31/50\n",
      "238/238 [==============================] - 1s 2ms/step - loss: 0.4850 - accuracy: 0.5620 - val_loss: 0.5138 - val_accuracy: 0.5649\n",
      "Epoch 32/50\n",
      "238/238 [==============================] - 1s 2ms/step - loss: 0.4850 - accuracy: 0.5620 - val_loss: 0.5144 - val_accuracy: 0.5649\n",
      "Epoch 33/50\n",
      "238/238 [==============================] - 1s 2ms/step - loss: 0.4850 - accuracy: 0.5620 - val_loss: 0.5145 - val_accuracy: 0.5649\n",
      "Epoch 34/50\n",
      "238/238 [==============================] - 1s 2ms/step - loss: 0.4850 - accuracy: 0.5620 - val_loss: 0.5145 - val_accuracy: 0.5649\n",
      "Epoch 35/50\n",
      "238/238 [==============================] - 1s 2ms/step - loss: 0.4850 - accuracy: 0.5620 - val_loss: 0.5142 - val_accuracy: 0.5649\n",
      "Epoch 36/50\n",
      "238/238 [==============================] - 1s 3ms/step - loss: 0.4850 - accuracy: 0.5620 - val_loss: 0.5138 - val_accuracy: 0.5649\n",
      "Epoch 37/50\n",
      "238/238 [==============================] - 1s 3ms/step - loss: 0.4850 - accuracy: 0.5620 - val_loss: 0.5138 - val_accuracy: 0.5649\n",
      "Epoch 38/50\n",
      "238/238 [==============================] - 1s 2ms/step - loss: 0.4850 - accuracy: 0.5620 - val_loss: 0.5130 - val_accuracy: 0.5649\n",
      "Epoch 39/50\n",
      "238/238 [==============================] - 1s 2ms/step - loss: 0.4850 - accuracy: 0.5620 - val_loss: 0.5135 - val_accuracy: 0.5649\n",
      "Epoch 40/50\n",
      "238/238 [==============================] - 1s 2ms/step - loss: 0.4850 - accuracy: 0.5620 - val_loss: 0.5129 - val_accuracy: 0.5649\n",
      "Epoch 41/50\n",
      "238/238 [==============================] - 1s 2ms/step - loss: 0.4850 - accuracy: 0.5620 - val_loss: 0.5139 - val_accuracy: 0.5649\n",
      "Epoch 42/50\n",
      "238/238 [==============================] - 1s 2ms/step - loss: 0.4850 - accuracy: 0.5620 - val_loss: 0.5135 - val_accuracy: 0.5649\n",
      "Epoch 43/50\n",
      "238/238 [==============================] - 1s 2ms/step - loss: 0.4850 - accuracy: 0.5620 - val_loss: 0.5132 - val_accuracy: 0.5649\n",
      "Epoch 44/50\n",
      "238/238 [==============================] - 1s 2ms/step - loss: 0.4850 - accuracy: 0.5620 - val_loss: 0.5129 - val_accuracy: 0.5649\n",
      "Epoch 45/50\n",
      "238/238 [==============================] - 1s 2ms/step - loss: 0.4850 - accuracy: 0.5620 - val_loss: 0.5128 - val_accuracy: 0.5649\n",
      "Epoch 46/50\n",
      "238/238 [==============================] - 1s 2ms/step - loss: 0.4850 - accuracy: 0.5620 - val_loss: 0.5130 - val_accuracy: 0.5649\n",
      "Epoch 47/50\n",
      "238/238 [==============================] - 1s 2ms/step - loss: 0.4850 - accuracy: 0.5620 - val_loss: 0.5129 - val_accuracy: 0.5649\n",
      "Epoch 48/50\n",
      "238/238 [==============================] - 1s 2ms/step - loss: 0.4850 - accuracy: 0.5620 - val_loss: 0.5126 - val_accuracy: 0.5649\n",
      "Epoch 49/50\n",
      "238/238 [==============================] - 1s 2ms/step - loss: 0.4850 - accuracy: 0.5620 - val_loss: 0.5130 - val_accuracy: 0.5649\n",
      "Epoch 50/50\n",
      "238/238 [==============================] - 1s 2ms/step - loss: 0.4850 - accuracy: 0.5620 - val_loss: 0.5127 - val_accuracy: 0.5649\n"
     ]
    }
   ],
   "source": [
    "historyANN=modelANN.fit(x=X_train,y=y_train,\n",
    "                        batch_size=200,\n",
    "                        epochs=50,\n",
    "                        verbose=\"auto\",\n",
    "                        validation_data=(X_test,y_test),\n",
    "                        shuffle=True,\n",
    "                        class_weight=clweights)"
   ]
  },
  {
   "cell_type": "code",
   "execution_count": 59,
   "id": "956c2aea",
   "metadata": {},
   "outputs": [
    {
     "name": "stdout",
     "output_type": "stream",
     "text": [
      "371/371 [==============================] - 0s 1ms/step\n"
     ]
    },
    {
     "data": {
      "text/plain": [
       "array([[[ 7081,     0],\n",
       "        [ 4775,     0]],\n",
       "\n",
       "       [[11572,     0],\n",
       "        [  284,     0]],\n",
       "\n",
       "       [[11745,     0],\n",
       "        [  111,     0]],\n",
       "\n",
       "       [[11838,     0],\n",
       "        [   18,     0]],\n",
       "\n",
       "       [[ 2285,     0],\n",
       "        [ 9571,     0]]], dtype=int64)"
      ]
     },
     "execution_count": 59,
     "metadata": {},
     "output_type": "execute_result"
    }
   ],
   "source": [
    "y_pred=modelANN.predict(X_test)\n",
    "yPred=y_pred.round().astype(int)\n",
    "y_test=y_test.astype(int)\n",
    "multilabel_confusion_matrix(y_test,yPred)"
   ]
  },
  {
   "cell_type": "markdown",
   "id": "1291a049",
   "metadata": {},
   "source": [
    "## CNN_1 for 2D data"
   ]
  },
  {
   "cell_type": "code",
   "execution_count": 12,
   "id": "93b70b5f",
   "metadata": {},
   "outputs": [],
   "source": [
    "X=np.load(\"ImageData2D.npy\")\n",
    "y=np.load(\"Labe2D.npy\")\n",
    "X=X/255\n",
    "y=y.astype(int)\n",
    "X_train,X_test,y_train,y_test = train_test_split(X,y,test_size=0.2,random_state=0)"
   ]
  },
  {
   "cell_type": "code",
   "execution_count": 13,
   "id": "d29d1f81",
   "metadata": {},
   "outputs": [
    {
     "data": {
      "text/plain": [
       "((47420, 36, 64), (47420, 5))"
      ]
     },
     "execution_count": 13,
     "metadata": {},
     "output_type": "execute_result"
    }
   ],
   "source": [
    "X_train.shape,y_train.shape"
   ]
  },
  {
   "cell_type": "code",
   "execution_count": 14,
   "id": "8e27f95d",
   "metadata": {},
   "outputs": [
    {
     "data": {
      "text/plain": [
       "(47420, 36, 64, 1)"
      ]
     },
     "execution_count": 14,
     "metadata": {},
     "output_type": "execute_result"
    }
   ],
   "source": [
    "X_train=X_train.reshape(X_train.shape[0],X_train.shape[1],X_train.shape[2],-1)\n",
    "X_train.shape"
   ]
  },
  {
   "cell_type": "code",
   "execution_count": 15,
   "id": "d7bfcd1d",
   "metadata": {},
   "outputs": [
    {
     "data": {
      "text/plain": [
       "(11856, 36, 64, 1)"
      ]
     },
     "execution_count": 15,
     "metadata": {},
     "output_type": "execute_result"
    }
   ],
   "source": [
    "X_test=X_test.reshape(X_test.shape[0],X_test.shape[1],X_test.shape[2],-1)\n",
    "X_test.shape"
   ]
  },
  {
   "cell_type": "code",
   "execution_count": 16,
   "id": "560b3621",
   "metadata": {},
   "outputs": [],
   "source": [
    "# 3-LAYER CNN for image classification\n",
    "modelCNN = Sequential()\n",
    "modelCNN.add(Conv2D(10, (2, 2), input_shape=(36,64,1)))\n",
    "modelCNN.add(Activation('relu'))\n",
    "modelCNN.add(MaxPooling2D(pool_size=(2, 2)))\n",
    "\n",
    "modelCNN.add(Flatten())\n",
    "modelCNN.add(Dense(32))\n",
    "modelCNN.add(Activation('relu'))\n",
    "modelCNN.add(Dropout(0.5))\n",
    "modelCNN.add(Dense(5))\n",
    "modelCNN.add(Activation('softmax'))"
   ]
  },
  {
   "cell_type": "code",
   "execution_count": 17,
   "id": "1fd1143e",
   "metadata": {},
   "outputs": [
    {
     "name": "stdout",
     "output_type": "stream",
     "text": [
      "Epoch 1/50\n",
      "238/238 [==============================] - 10s 42ms/step - loss: 0.2988 - accuracy: 0.5827 - val_loss: 0.2219 - val_accuracy: 0.5886\n",
      "Epoch 2/50\n",
      "238/238 [==============================] - 13s 54ms/step - loss: 0.2433 - accuracy: 0.6181 - val_loss: 0.2088 - val_accuracy: 0.6290\n",
      "Epoch 3/50\n",
      "238/238 [==============================] - 11s 47ms/step - loss: 0.2266 - accuracy: 0.6380 - val_loss: 0.2052 - val_accuracy: 0.6142\n",
      "Epoch 4/50\n",
      "238/238 [==============================] - 14s 58ms/step - loss: 0.2175 - accuracy: 0.6496 - val_loss: 0.1959 - val_accuracy: 0.6715\n",
      "Epoch 5/50\n",
      "238/238 [==============================] - 15s 61ms/step - loss: 0.2122 - accuracy: 0.6625 - val_loss: 0.1953 - val_accuracy: 0.6617\n",
      "Epoch 6/50\n",
      "238/238 [==============================] - 14s 60ms/step - loss: 0.2091 - accuracy: 0.6683 - val_loss: 0.1919 - val_accuracy: 0.6942\n",
      "Epoch 7/50\n",
      "238/238 [==============================] - 13s 54ms/step - loss: 0.2055 - accuracy: 0.6761 - val_loss: 0.1879 - val_accuracy: 0.6690\n",
      "Epoch 8/50\n",
      "238/238 [==============================] - 12s 52ms/step - loss: 0.2021 - accuracy: 0.6845 - val_loss: 0.1843 - val_accuracy: 0.6933\n",
      "Epoch 9/50\n",
      "238/238 [==============================] - 12s 51ms/step - loss: 0.1990 - accuracy: 0.6913 - val_loss: 0.1805 - val_accuracy: 0.7260\n",
      "Epoch 10/50\n",
      "238/238 [==============================] - 12s 49ms/step - loss: 0.1953 - accuracy: 0.7013 - val_loss: 0.1761 - val_accuracy: 0.7519\n",
      "Epoch 11/50\n",
      "238/238 [==============================] - 12s 50ms/step - loss: 0.1920 - accuracy: 0.7063 - val_loss: 0.1775 - val_accuracy: 0.7165\n",
      "Epoch 12/50\n",
      "238/238 [==============================] - 12s 51ms/step - loss: 0.1903 - accuracy: 0.7093 - val_loss: 0.1731 - val_accuracy: 0.7320\n",
      "Epoch 13/50\n",
      "238/238 [==============================] - 13s 53ms/step - loss: 0.1872 - accuracy: 0.7158 - val_loss: 0.1703 - val_accuracy: 0.7637\n",
      "Epoch 14/50\n",
      "238/238 [==============================] - 12s 50ms/step - loss: 0.1848 - accuracy: 0.7190 - val_loss: 0.1691 - val_accuracy: 0.7746\n",
      "Epoch 15/50\n",
      "238/238 [==============================] - 10s 42ms/step - loss: 0.1832 - accuracy: 0.7221 - val_loss: 0.1702 - val_accuracy: 0.7706\n",
      "Epoch 16/50\n",
      "238/238 [==============================] - 11s 47ms/step - loss: 0.1815 - accuracy: 0.7234 - val_loss: 0.1672 - val_accuracy: 0.7912\n",
      "Epoch 17/50\n",
      "238/238 [==============================] - 11s 44ms/step - loss: 0.1801 - accuracy: 0.7258 - val_loss: 0.1696 - val_accuracy: 0.7327\n",
      "Epoch 18/50\n",
      "238/238 [==============================] - 9s 39ms/step - loss: 0.1784 - accuracy: 0.7274 - val_loss: 0.1654 - val_accuracy: 0.7863\n",
      "Epoch 19/50\n",
      "238/238 [==============================] - 12s 49ms/step - loss: 0.1780 - accuracy: 0.7283 - val_loss: 0.1694 - val_accuracy: 0.7109\n",
      "Epoch 20/50\n",
      "238/238 [==============================] - 10s 43ms/step - loss: 0.1759 - accuracy: 0.7324 - val_loss: 0.1652 - val_accuracy: 0.7659\n",
      "Epoch 21/50\n",
      "238/238 [==============================] - 10s 41ms/step - loss: 0.1746 - accuracy: 0.7358 - val_loss: 0.1644 - val_accuracy: 0.7629\n",
      "Epoch 22/50\n",
      "238/238 [==============================] - 10s 43ms/step - loss: 0.1734 - accuracy: 0.7384 - val_loss: 0.1644 - val_accuracy: 0.7530\n",
      "Epoch 23/50\n",
      "238/238 [==============================] - 13s 54ms/step - loss: 0.1723 - accuracy: 0.7391 - val_loss: 0.1691 - val_accuracy: 0.7393\n",
      "Epoch 24/50\n",
      "238/238 [==============================] - 13s 54ms/step - loss: 0.1710 - accuracy: 0.7455 - val_loss: 0.1757 - val_accuracy: 0.6721\n",
      "Epoch 25/50\n",
      "238/238 [==============================] - 14s 59ms/step - loss: 0.1709 - accuracy: 0.7430 - val_loss: 0.1673 - val_accuracy: 0.7867\n",
      "Epoch 26/50\n",
      "238/238 [==============================] - 12s 49ms/step - loss: 0.1691 - accuracy: 0.7483 - val_loss: 0.1656 - val_accuracy: 0.7466\n",
      "Epoch 27/50\n",
      "238/238 [==============================] - 12s 50ms/step - loss: 0.1683 - accuracy: 0.7502 - val_loss: 0.1646 - val_accuracy: 0.7759\n",
      "Epoch 28/50\n",
      "238/238 [==============================] - 11s 45ms/step - loss: 0.1675 - accuracy: 0.7522 - val_loss: 0.1627 - val_accuracy: 0.7749\n",
      "Epoch 29/50\n",
      "238/238 [==============================] - 13s 56ms/step - loss: 0.1659 - accuracy: 0.7546 - val_loss: 0.1624 - val_accuracy: 0.7873\n",
      "Epoch 30/50\n",
      "238/238 [==============================] - 12s 50ms/step - loss: 0.1656 - accuracy: 0.7540 - val_loss: 0.1624 - val_accuracy: 0.7829\n",
      "Epoch 31/50\n",
      "238/238 [==============================] - 12s 51ms/step - loss: 0.1652 - accuracy: 0.7565 - val_loss: 0.1623 - val_accuracy: 0.7914\n",
      "Epoch 32/50\n",
      "238/238 [==============================] - 11s 47ms/step - loss: 0.1636 - accuracy: 0.7596 - val_loss: 0.1715 - val_accuracy: 0.7415\n",
      "Epoch 33/50\n",
      "238/238 [==============================] - 11s 48ms/step - loss: 0.1641 - accuracy: 0.7565 - val_loss: 0.1651 - val_accuracy: 0.8101\n",
      "Epoch 34/50\n",
      "238/238 [==============================] - 10s 43ms/step - loss: 0.1625 - accuracy: 0.7605 - val_loss: 0.1653 - val_accuracy: 0.7539\n",
      "Epoch 35/50\n",
      "238/238 [==============================] - 14s 60ms/step - loss: 0.1616 - accuracy: 0.7629 - val_loss: 0.1628 - val_accuracy: 0.7993\n",
      "Epoch 36/50\n",
      "238/238 [==============================] - 12s 51ms/step - loss: 0.1618 - accuracy: 0.7628 - val_loss: 0.1646 - val_accuracy: 0.7621\n",
      "Epoch 37/50\n",
      "238/238 [==============================] - 12s 49ms/step - loss: 0.1627 - accuracy: 0.7615 - val_loss: 0.1635 - val_accuracy: 0.7807\n",
      "Epoch 38/50\n",
      "238/238 [==============================] - 9s 36ms/step - loss: 0.1604 - accuracy: 0.7696 - val_loss: 0.1638 - val_accuracy: 0.7911\n",
      "Epoch 39/50\n",
      "238/238 [==============================] - 11s 47ms/step - loss: 0.1596 - accuracy: 0.7697 - val_loss: 0.1669 - val_accuracy: 0.7435\n",
      "Epoch 40/50\n",
      "238/238 [==============================] - 12s 52ms/step - loss: 0.1588 - accuracy: 0.7691 - val_loss: 0.1667 - val_accuracy: 0.7460\n",
      "Epoch 41/50\n",
      "238/238 [==============================] - 11s 46ms/step - loss: 0.1588 - accuracy: 0.7717 - val_loss: 0.1633 - val_accuracy: 0.7688\n",
      "Epoch 42/50\n",
      "238/238 [==============================] - 12s 50ms/step - loss: 0.1584 - accuracy: 0.7729 - val_loss: 0.1634 - val_accuracy: 0.7928\n",
      "Epoch 43/50\n",
      "238/238 [==============================] - 12s 51ms/step - loss: 0.1571 - accuracy: 0.7766 - val_loss: 0.1690 - val_accuracy: 0.7668\n",
      "Epoch 44/50\n",
      "238/238 [==============================] - 13s 53ms/step - loss: 0.1571 - accuracy: 0.7716 - val_loss: 0.1668 - val_accuracy: 0.8113\n",
      "Epoch 45/50\n",
      "238/238 [==============================] - 15s 62ms/step - loss: 0.1565 - accuracy: 0.7737 - val_loss: 0.1663 - val_accuracy: 0.7848\n",
      "Epoch 46/50\n",
      "238/238 [==============================] - 13s 53ms/step - loss: 0.1564 - accuracy: 0.7768 - val_loss: 0.1677 - val_accuracy: 0.8130\n",
      "Epoch 47/50\n",
      "238/238 [==============================] - 12s 51ms/step - loss: 0.1559 - accuracy: 0.7761 - val_loss: 0.1658 - val_accuracy: 0.7756\n",
      "Epoch 48/50\n",
      "238/238 [==============================] - 11s 47ms/step - loss: 0.1549 - accuracy: 0.7768 - val_loss: 0.1644 - val_accuracy: 0.8031\n",
      "Epoch 49/50\n",
      "238/238 [==============================] - 10s 43ms/step - loss: 0.1546 - accuracy: 0.7762 - val_loss: 0.1758 - val_accuracy: 0.7530\n",
      "Epoch 50/50\n",
      "238/238 [==============================] - 11s 45ms/step - loss: 0.1537 - accuracy: 0.7826 - val_loss: 0.1672 - val_accuracy: 0.7782\n"
     ]
    }
   ],
   "source": [
    "modelCNN.compile(optimizer='adam',\n",
    "              loss='binary_crossentropy',\n",
    "              metrics=['accuracy'])\n",
    "historyCNN=modelCNN.fit(x=X_train,y=y_train,\n",
    "                        batch_size=200,\n",
    "                        epochs=50,\n",
    "                        verbose=\"auto\",\n",
    "                        validation_data=(X_test,y_test),\n",
    "                        shuffle=True)"
   ]
  },
  {
   "cell_type": "code",
   "execution_count": 18,
   "id": "088e95f5",
   "metadata": {},
   "outputs": [
    {
     "data": {
      "text/plain": [
       "<matplotlib.legend.Legend at 0x1c60e326b80>"
      ]
     },
     "execution_count": 18,
     "metadata": {},
     "output_type": "execute_result"
    },
    {
     "data": {
      "image/png": "[encoded data removed]",
      "text/plain": [
       "<Figure size 640x480 with 1 Axes>"
      ]
     },
     "metadata": {},
     "output_type": "display_data"
    }
   ],
   "source": [
    "plt.plot(historyCNN.history['accuracy'], label='accuracy')\n",
    "plt.plot(historyCNN.history['val_accuracy'], label = 'val_accuracy')\n",
    "plt.xlabel('Epoch')\n",
    "plt.ylabel('Accuracy')\n",
    "plt.legend(loc='lower right')"
   ]
  },
  {
   "cell_type": "code",
   "execution_count": 19,
   "id": "6f97a5c3",
   "metadata": {},
   "outputs": [
    {
     "name": "stdout",
     "output_type": "stream",
     "text": [
      "371/371 [==============================] - 1s 2ms/step\n"
     ]
    },
    {
     "data": {
      "text/plain": [
       "array([[[ 6843,   232],\n",
       "        [ 2057,  2724]],\n",
       "\n",
       "       [[11594,     0],\n",
       "        [  262,     0]],\n",
       "\n",
       "       [[11744,     0],\n",
       "        [  112,     0]],\n",
       "\n",
       "       [[11841,     0],\n",
       "        [   15,     0]],\n",
       "\n",
       "       [[ 1357,   903],\n",
       "        [ 1827,  7769]]], dtype=int64)"
      ]
     },
     "execution_count": 19,
     "metadata": {},
     "output_type": "execute_result"
    }
   ],
   "source": [
    "y_pred=modelCNN.predict(X_test)\n",
    "yPred=y_pred.round().astype(int)\n",
    "y_test=y_test.astype(int)\n",
    "multilabel_confusion_matrix(y_test,yPred)"
   ]
  },
  {
   "cell_type": "markdown",
   "id": "d4839669",
   "metadata": {},
   "source": [
    "# CNN_2 for 3D data"
   ]
  },
  {
   "cell_type": "code",
   "execution_count": 20,
   "id": "bc17efb7",
   "metadata": {},
   "outputs": [],
   "source": [
    "X=np.load(\"ImageData3D.npy\")\n",
    "y=np.load(\"Labe3D.npy\")\n",
    "X=X/255\n",
    "y=y.astype(int)\n",
    "X_train,X_test,y_train,y_test = train_test_split(X,y,test_size=0.2,random_state=0)"
   ]
  },
  {
   "cell_type": "code",
   "execution_count": 21,
   "id": "7ba262a6",
   "metadata": {},
   "outputs": [
    {
     "data": {
      "text/plain": [
       "((47420, 36, 64, 3), (47420, 5), (11856, 36, 64, 3), (11856, 5))"
      ]
     },
     "execution_count": 21,
     "metadata": {},
     "output_type": "execute_result"
    }
   ],
   "source": [
    "X_train.shape,y_train.shape,X_test.shape,y_test.shape"
   ]
  },
  {
   "cell_type": "code",
   "execution_count": 22,
   "id": "916fb50b",
   "metadata": {},
   "outputs": [],
   "source": [
    "# 3-LAYER CNN for image classification\n",
    "modelCNN = Sequential()\n",
    "modelCNN.add(Conv2D(10, (2, 2), input_shape=(36,64,3)))\n",
    "modelCNN.add(Activation('relu'))\n",
    "modelCNN.add(MaxPooling2D(pool_size=(2, 2)))\n",
    "\n",
    "modelCNN.add(Flatten())\n",
    "modelCNN.add(Dense(32))\n",
    "modelCNN.add(Activation('relu'))\n",
    "modelCNN.add(Dropout(0.5))\n",
    "modelCNN.add(Dense(5))\n",
    "modelCNN.add(Activation('softmax'))"
   ]
  },
  {
   "cell_type": "code",
   "execution_count": 23,
   "id": "1f921b11",
   "metadata": {},
   "outputs": [
    {
     "name": "stdout",
     "output_type": "stream",
     "text": [
      "Epoch 1/50\n",
      "238/238 [==============================] - 12s 51ms/step - loss: 0.3191 - accuracy: 0.5659 - val_loss: 0.2135 - val_accuracy: 0.5792\n",
      "Epoch 2/50\n",
      "238/238 [==============================] - 12s 51ms/step - loss: 0.2390 - accuracy: 0.6251 - val_loss: 0.1895 - val_accuracy: 0.6604\n",
      "Epoch 3/50\n",
      "238/238 [==============================] - 10s 41ms/step - loss: 0.2169 - accuracy: 0.6712 - val_loss: 0.1780 - val_accuracy: 0.7402\n",
      "Epoch 4/50\n",
      "238/238 [==============================] - 13s 54ms/step - loss: 0.2063 - accuracy: 0.6956 - val_loss: 0.1699 - val_accuracy: 0.7287\n",
      "Epoch 5/50\n",
      "238/238 [==============================] - 10s 41ms/step - loss: 0.2002 - accuracy: 0.7123 - val_loss: 0.1630 - val_accuracy: 0.7843\n",
      "Epoch 6/50\n",
      "238/238 [==============================] - 13s 55ms/step - loss: 0.1950 - accuracy: 0.7194 - val_loss: 0.1614 - val_accuracy: 0.7920\n",
      "Epoch 7/50\n",
      "238/238 [==============================] - 10s 42ms/step - loss: 0.1896 - accuracy: 0.7285 - val_loss: 0.1612 - val_accuracy: 0.7500\n",
      "Epoch 8/50\n",
      "238/238 [==============================] - 11s 46ms/step - loss: 0.1884 - accuracy: 0.7327 - val_loss: 0.1604 - val_accuracy: 0.7583\n",
      "Epoch 9/50\n",
      "238/238 [==============================] - 11s 46ms/step - loss: 0.1859 - accuracy: 0.7372 - val_loss: 0.1550 - val_accuracy: 0.8031\n",
      "Epoch 10/50\n",
      "238/238 [==============================] - 11s 47ms/step - loss: 0.1833 - accuracy: 0.7387 - val_loss: 0.1590 - val_accuracy: 0.7622\n",
      "Epoch 11/50\n",
      "238/238 [==============================] - 12s 52ms/step - loss: 0.1805 - accuracy: 0.7433 - val_loss: 0.1551 - val_accuracy: 0.8119\n",
      "Epoch 12/50\n",
      "238/238 [==============================] - 10s 44ms/step - loss: 0.1783 - accuracy: 0.7439 - val_loss: 0.1521 - val_accuracy: 0.8101\n",
      "Epoch 13/50\n",
      "238/238 [==============================] - 14s 60ms/step - loss: 0.1766 - accuracy: 0.7484 - val_loss: 0.1526 - val_accuracy: 0.7980\n",
      "Epoch 14/50\n",
      "238/238 [==============================] - 10s 42ms/step - loss: 0.1749 - accuracy: 0.7487 - val_loss: 0.1513 - val_accuracy: 0.8185\n",
      "Epoch 15/50\n",
      "238/238 [==============================] - 11s 45ms/step - loss: 0.1737 - accuracy: 0.7489 - val_loss: 0.1534 - val_accuracy: 0.7747\n",
      "Epoch 16/50\n",
      "238/238 [==============================] - 11s 45ms/step - loss: 0.1719 - accuracy: 0.7488 - val_loss: 0.1511 - val_accuracy: 0.8115\n",
      "Epoch 17/50\n",
      "238/238 [==============================] - 11s 48ms/step - loss: 0.1704 - accuracy: 0.7531 - val_loss: 0.1538 - val_accuracy: 0.7718\n",
      "Epoch 18/50\n",
      "238/238 [==============================] - 11s 47ms/step - loss: 0.1693 - accuracy: 0.7544 - val_loss: 0.1559 - val_accuracy: 0.8417\n",
      "Epoch 19/50\n",
      "238/238 [==============================] - 11s 46ms/step - loss: 0.1675 - accuracy: 0.7617 - val_loss: 0.1523 - val_accuracy: 0.8171\n",
      "Epoch 20/50\n",
      "238/238 [==============================] - 13s 55ms/step - loss: 0.1662 - accuracy: 0.7617 - val_loss: 0.1525 - val_accuracy: 0.7762\n",
      "Epoch 21/50\n",
      "238/238 [==============================] - 11s 45ms/step - loss: 0.1651 - accuracy: 0.7657 - val_loss: 0.1518 - val_accuracy: 0.8447\n",
      "Epoch 22/50\n",
      "238/238 [==============================] - 11s 47ms/step - loss: 0.1641 - accuracy: 0.7727 - val_loss: 0.1568 - val_accuracy: 0.7862\n",
      "Epoch 23/50\n",
      "238/238 [==============================] - 11s 48ms/step - loss: 0.1638 - accuracy: 0.7731 - val_loss: 0.1495 - val_accuracy: 0.8262\n",
      "Epoch 24/50\n",
      "238/238 [==============================] - 11s 48ms/step - loss: 0.1610 - accuracy: 0.7798 - val_loss: 0.1502 - val_accuracy: 0.8061\n",
      "Epoch 25/50\n",
      "238/238 [==============================] - 13s 54ms/step - loss: 0.1595 - accuracy: 0.7826 - val_loss: 0.1498 - val_accuracy: 0.8273\n",
      "Epoch 26/50\n",
      "238/238 [==============================] - 12s 52ms/step - loss: 0.1601 - accuracy: 0.7815 - val_loss: 0.1512 - val_accuracy: 0.8363\n",
      "Epoch 27/50\n",
      "238/238 [==============================] - 12s 49ms/step - loss: 0.1587 - accuracy: 0.7853 - val_loss: 0.1503 - val_accuracy: 0.8133\n",
      "Epoch 28/50\n",
      "238/238 [==============================] - 11s 45ms/step - loss: 0.1575 - accuracy: 0.7864 - val_loss: 0.1526 - val_accuracy: 0.7862\n",
      "Epoch 29/50\n",
      "238/238 [==============================] - 10s 40ms/step - loss: 0.1574 - accuracy: 0.7857 - val_loss: 0.1505 - val_accuracy: 0.8263\n",
      "Epoch 30/50\n",
      "238/238 [==============================] - 10s 43ms/step - loss: 0.1562 - accuracy: 0.7879 - val_loss: 0.1509 - val_accuracy: 0.8390\n",
      "Epoch 31/50\n",
      "238/238 [==============================] - 13s 54ms/step - loss: 0.1556 - accuracy: 0.7919 - val_loss: 0.1580 - val_accuracy: 0.7928\n",
      "Epoch 32/50\n",
      "238/238 [==============================] - 12s 48ms/step - loss: 0.1549 - accuracy: 0.7913 - val_loss: 0.1538 - val_accuracy: 0.8347\n",
      "Epoch 33/50\n",
      "238/238 [==============================] - 12s 51ms/step - loss: 0.1533 - accuracy: 0.7938 - val_loss: 0.1535 - val_accuracy: 0.8097\n",
      "Epoch 34/50\n",
      "238/238 [==============================] - 11s 45ms/step - loss: 0.1541 - accuracy: 0.7934 - val_loss: 0.1534 - val_accuracy: 0.8409\n",
      "Epoch 35/50\n",
      "238/238 [==============================] - 11s 48ms/step - loss: 0.1526 - accuracy: 0.7951 - val_loss: 0.1535 - val_accuracy: 0.8144\n",
      "Epoch 36/50\n",
      "238/238 [==============================] - 11s 47ms/step - loss: 0.1521 - accuracy: 0.7952 - val_loss: 0.1532 - val_accuracy: 0.8386\n",
      "Epoch 37/50\n",
      "238/238 [==============================] - 9s 39ms/step - loss: 0.1511 - accuracy: 0.7968 - val_loss: 0.1524 - val_accuracy: 0.8244\n",
      "Epoch 38/50\n",
      "238/238 [==============================] - 10s 44ms/step - loss: 0.1506 - accuracy: 0.7951 - val_loss: 0.1565 - val_accuracy: 0.8211\n",
      "Epoch 39/50\n",
      "238/238 [==============================] - 10s 43ms/step - loss: 0.1501 - accuracy: 0.7957 - val_loss: 0.1541 - val_accuracy: 0.8118\n",
      "Epoch 40/50\n",
      "238/238 [==============================] - 9s 40ms/step - loss: 0.1500 - accuracy: 0.7981 - val_loss: 0.1561 - val_accuracy: 0.8291\n",
      "Epoch 41/50\n",
      "238/238 [==============================] - 10s 43ms/step - loss: 0.1493 - accuracy: 0.8011 - val_loss: 0.1571 - val_accuracy: 0.8167\n",
      "Epoch 42/50\n",
      "238/238 [==============================] - 11s 47ms/step - loss: 0.1494 - accuracy: 0.7974 - val_loss: 0.1570 - val_accuracy: 0.8068\n",
      "Epoch 43/50\n",
      "238/238 [==============================] - 13s 56ms/step - loss: 0.1487 - accuracy: 0.8007 - val_loss: 0.1560 - val_accuracy: 0.8276\n",
      "Epoch 44/50\n",
      "238/238 [==============================] - 12s 51ms/step - loss: 0.1475 - accuracy: 0.7999 - val_loss: 0.1550 - val_accuracy: 0.8152\n",
      "Epoch 45/50\n",
      "238/238 [==============================] - 12s 51ms/step - loss: 0.1484 - accuracy: 0.7997 - val_loss: 0.1553 - val_accuracy: 0.7938\n",
      "Epoch 46/50\n",
      "238/238 [==============================] - 13s 56ms/step - loss: 0.1474 - accuracy: 0.8002 - val_loss: 0.1576 - val_accuracy: 0.8092\n",
      "Epoch 47/50\n",
      "238/238 [==============================] - 11s 44ms/step - loss: 0.1470 - accuracy: 0.7983 - val_loss: 0.1617 - val_accuracy: 0.8036\n",
      "Epoch 48/50\n",
      "238/238 [==============================] - 11s 46ms/step - loss: 0.1462 - accuracy: 0.8015 - val_loss: 0.1582 - val_accuracy: 0.8209\n",
      "Epoch 49/50\n",
      "238/238 [==============================] - 11s 47ms/step - loss: 0.1453 - accuracy: 0.8018 - val_loss: 0.1590 - val_accuracy: 0.8348\n",
      "Epoch 50/50\n",
      "238/238 [==============================] - 13s 54ms/step - loss: 0.1446 - accuracy: 0.8046 - val_loss: 0.1610 - val_accuracy: 0.8375\n"
     ]
    }
   ],
   "source": [
    "modelCNN.compile(optimizer='adam',\n",
    "              loss='binary_crossentropy',\n",
    "              metrics=['accuracy'])\n",
    "historyCNN=modelCNN.fit(x=X_train,y=y_train,\n",
    "                        batch_size=200,\n",
    "                        epochs=50,\n",
    "                        verbose=\"auto\",\n",
    "                        validation_data=(X_test,y_test),\n",
    "                        shuffle=True)"
   ]
  },
  {
   "cell_type": "code",
   "execution_count": 24,
   "id": "a4a29a45",
   "metadata": {},
   "outputs": [
    {
     "data": {
      "text/plain": [
       "<matplotlib.legend.Legend at 0x1c615ca6e20>"
      ]
     },
     "execution_count": 24,
     "metadata": {},
     "output_type": "execute_result"
    },
    {
     "data": {
      "image/png": "[encoded data removed]",
      "text/plain": [
       "<Figure size 640x480 with 1 Axes>"
      ]
     },
     "metadata": {},
     "output_type": "display_data"
    }
   ],
   "source": [
    "plt.plot(historyCNN.history['accuracy'], label='accuracy')\n",
    "plt.plot(historyCNN.history['val_accuracy'], label = 'val_accuracy')\n",
    "plt.xlabel('Epoch')\n",
    "plt.ylabel('Accuracy')\n",
    "plt.legend(loc='lower right')"
   ]
  },
  {
   "cell_type": "code",
   "execution_count": 25,
   "id": "18b48785",
   "metadata": {},
   "outputs": [
    {
     "name": "stdout",
     "output_type": "stream",
     "text": [
      "371/371 [==============================] - 1s 2ms/step\n"
     ]
    },
    {
     "data": {
      "text/plain": [
       "array([[[ 6629,   446],\n",
       "        [ 1139,  3642]],\n",
       "\n",
       "       [[11594,     0],\n",
       "        [  262,     0]],\n",
       "\n",
       "       [[11744,     0],\n",
       "        [  112,     0]],\n",
       "\n",
       "       [[11841,     0],\n",
       "        [   15,     0]],\n",
       "\n",
       "       [[ 1529,   731],\n",
       "        [ 2565,  7031]]], dtype=int64)"
      ]
     },
     "execution_count": 25,
     "metadata": {},
     "output_type": "execute_result"
    }
   ],
   "source": [
    "y_pred=modelCNN.predict(X_test)\n",
    "yPred=y_pred.round().astype(int)\n",
    "y_test=y_test.astype(int)\n",
    "multilabel_confusion_matrix(y_test,yPred)"
   ]
  },
  {
   "cell_type": "code",
   "execution_count": 26,
   "id": "b77f0cb3",
   "metadata": {},
   "outputs": [],
   "source": [
    "modelCNN.save('modelCNNcolor.h5')"
   ]
  },
  {
   "cell_type": "code",
   "execution_count": null,
   "id": "91d25e99",
   "metadata": {},
   "outputs": [],
   "source": []
  },
  {
   "cell_type": "code",
   "execution_count": null,
   "id": "5c8a356c",
   "metadata": {},
   "outputs": [],
   "source": []
  }
 ],
 "metadata": {
  "kernelspec": {
   "display_name": "Python 3 (ipykernel)",
   "language": "python",
   "name": "python3"
  },
  "language_info": {
   "codemirror_mode": {
    "name": "ipython",
    "version": 3
   },
   "file_extension": ".py",
   "mimetype": "text/x-python",
   "name": "python",
   "nbconvert_exporter": "python",
   "pygments_lexer": "ipython3",
   "version": "3.9.13"
  }
 },
 "nbformat": 4,
 "nbformat_minor": 5
}
